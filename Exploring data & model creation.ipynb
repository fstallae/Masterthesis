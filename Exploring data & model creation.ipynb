{
 "cells": [
  {
   "cell_type": "code",
   "execution_count": 1,
   "metadata": {
    "collapsed": true
   },
   "outputs": [],
   "source": [
    "import pandas as pd\n",
    "%matplotlib inline\n",
    "import numpy as np\n",
    "import matplotlib.pyplot as plt\n",
    "import seaborn\n",
    "\n",
    "pd.options.display.max_rows = 8"
   ]
  },
  {
   "cell_type": "code",
   "execution_count": 10,
   "metadata": {
    "collapsed": false
   },
   "outputs": [
    {
     "data": {
      "text/html": [
       "<div>\n",
       "<table border=\"1\" class=\"dataframe\">\n",
       "  <thead>\n",
       "    <tr style=\"text-align: right;\">\n",
       "      <th></th>\n",
       "      <th>Soort</th>\n",
       "      <th>Familie</th>\n",
       "      <th>Haven</th>\n",
       "      <th>Hoeveelheid in kg</th>\n",
       "      <th>Hoeveelheid in EU</th>\n",
       "      <th>year</th>\n",
       "      <th>month</th>\n",
       "    </tr>\n",
       "  </thead>\n",
       "  <tbody>\n",
       "    <tr>\n",
       "      <th>0</th>\n",
       "      <td>Schelvis</td>\n",
       "      <td>Bodemvis</td>\n",
       "      <td>Oostende</td>\n",
       "      <td>4782.0</td>\n",
       "      <td>5250.0</td>\n",
       "      <td>2012</td>\n",
       "      <td>1</td>\n",
       "    </tr>\n",
       "    <tr>\n",
       "      <th>1</th>\n",
       "      <td>Kabeljauw</td>\n",
       "      <td>Bodemvis</td>\n",
       "      <td>Oostende</td>\n",
       "      <td>22449.0</td>\n",
       "      <td>58882.0</td>\n",
       "      <td>2012</td>\n",
       "      <td>1</td>\n",
       "    </tr>\n",
       "    <tr>\n",
       "      <th>2</th>\n",
       "      <td>Koolvis</td>\n",
       "      <td>Bodemvis</td>\n",
       "      <td>Oostende</td>\n",
       "      <td>6.0</td>\n",
       "      <td>16.0</td>\n",
       "      <td>2012</td>\n",
       "      <td>1</td>\n",
       "    </tr>\n",
       "    <tr>\n",
       "      <th>3</th>\n",
       "      <td>Wijting</td>\n",
       "      <td>Bodemvis</td>\n",
       "      <td>Oostende</td>\n",
       "      <td>5495.0</td>\n",
       "      <td>6246.0</td>\n",
       "      <td>2012</td>\n",
       "      <td>1</td>\n",
       "    </tr>\n",
       "    <tr>\n",
       "      <th>...</th>\n",
       "      <td>...</td>\n",
       "      <td>...</td>\n",
       "      <td>...</td>\n",
       "      <td>...</td>\n",
       "      <td>...</td>\n",
       "      <td>...</td>\n",
       "      <td>...</td>\n",
       "    </tr>\n",
       "    <tr>\n",
       "      <th>7643</th>\n",
       "      <td>Schelpen</td>\n",
       "      <td>Schaal- en Weekdieren</td>\n",
       "      <td>Nieuwpoort</td>\n",
       "      <td>0.0</td>\n",
       "      <td>0.0</td>\n",
       "      <td>2016</td>\n",
       "      <td>7</td>\n",
       "    </tr>\n",
       "    <tr>\n",
       "      <th>7644</th>\n",
       "      <td>Inktvis</td>\n",
       "      <td>Schaal- en Weekdieren</td>\n",
       "      <td>Nieuwpoort</td>\n",
       "      <td>19.0</td>\n",
       "      <td>60.0</td>\n",
       "      <td>2016</td>\n",
       "      <td>7</td>\n",
       "    </tr>\n",
       "    <tr>\n",
       "      <th>7645</th>\n",
       "      <td>Wulk</td>\n",
       "      <td>Schaal- en Weekdieren</td>\n",
       "      <td>Nieuwpoort</td>\n",
       "      <td>0.0</td>\n",
       "      <td>0.0</td>\n",
       "      <td>2016</td>\n",
       "      <td>7</td>\n",
       "    </tr>\n",
       "    <tr>\n",
       "      <th>7646</th>\n",
       "      <td>Andere soorten</td>\n",
       "      <td>Schaal- en Weekdieren</td>\n",
       "      <td>Nieuwpoort</td>\n",
       "      <td>0.0</td>\n",
       "      <td>0.0</td>\n",
       "      <td>2016</td>\n",
       "      <td>7</td>\n",
       "    </tr>\n",
       "  </tbody>\n",
       "</table>\n",
       "<p>7647 rows × 7 columns</p>\n",
       "</div>"
      ],
      "text/plain": [
       "               Soort                Familie       Haven  Hoeveelheid in kg  \\\n",
       "0           Schelvis               Bodemvis    Oostende             4782.0   \n",
       "1          Kabeljauw               Bodemvis    Oostende            22449.0   \n",
       "2            Koolvis               Bodemvis    Oostende                6.0   \n",
       "3            Wijting               Bodemvis    Oostende             5495.0   \n",
       "...              ...                    ...         ...                ...   \n",
       "7643        Schelpen  Schaal- en Weekdieren  Nieuwpoort                0.0   \n",
       "7644         Inktvis  Schaal- en Weekdieren  Nieuwpoort               19.0   \n",
       "7645            Wulk  Schaal- en Weekdieren  Nieuwpoort                0.0   \n",
       "7646  Andere soorten  Schaal- en Weekdieren  Nieuwpoort                0.0   \n",
       "\n",
       "      Hoeveelheid in EU  year  month  \n",
       "0                5250.0  2012      1  \n",
       "1               58882.0  2012      1  \n",
       "2                  16.0  2012      1  \n",
       "3                6246.0  2012      1  \n",
       "...                 ...   ...    ...  \n",
       "7643                0.0  2016      7  \n",
       "7644               60.0  2016      7  \n",
       "7645                0.0  2016      7  \n",
       "7646                0.0  2016      7  \n",
       "\n",
       "[7647 rows x 7 columns]"
      ]
     },
     "execution_count": 10,
     "metadata": {},
     "output_type": "execute_result"
    }
   ],
   "source": [
    "data = pd.read_csv('Data/cleaned_data.csv')\n",
    "data"
   ]
  },
  {
   "cell_type": "code",
   "execution_count": 14,
   "metadata": {
    "collapsed": false
   },
   "outputs": [
    {
     "data": {
      "text/plain": [
       "<pandas.tools.plotting.FramePlotMethods object at 0x000000000A82EF98>"
      ]
     },
     "execution_count": 14,
     "metadata": {},
     "output_type": "execute_result"
    }
   ],
   "source": [
    "data.plot"
   ]
  }
 ],
 "metadata": {
  "kernelspec": {
   "display_name": "Python [Root]",
   "language": "python",
   "name": "Python [Root]"
  },
  "language_info": {
   "codemirror_mode": {
    "name": "ipython",
    "version": 3
   },
   "file_extension": ".py",
   "mimetype": "text/x-python",
   "name": "python",
   "nbconvert_exporter": "python",
   "pygments_lexer": "ipython3",
   "version": "3.5.2"
  }
 },
 "nbformat": 4,
 "nbformat_minor": 0
}
