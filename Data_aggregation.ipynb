{
 "cells": [
  {
   "cell_type": "markdown",
   "metadata": {
    "collapsed": true
   },
   "source": [
    "# *Data aggregation and cleaning of fishing datasets*"
   ]
  },
  {
   "cell_type": "markdown",
   "metadata": {},
   "source": [
    "# Step 1: Cleaning the data"
   ]
  },
  {
   "cell_type": "markdown",
   "metadata": {},
   "source": [
    "## First we'll try to create tables from the seperate .txt files using the Pandas library"
   ]
  },
  {
   "cell_type": "code",
   "execution_count": 1,
   "metadata": {
    "collapsed": true
   },
   "outputs": [],
   "source": [
    "import pandas as pd"
   ]
  },
  {
   "cell_type": "code",
   "execution_count": 2,
   "metadata": {
    "collapsed": true
   },
   "outputs": [],
   "source": [
    "%matplotlib inline\n",
    "import numpy as np\n",
    "import matplotlib.pyplot as plt\n",
    "import seaborn\n",
    "import os, sys\n",
    "\n",
    "pd.options.display.max_rows = 8"
   ]
  },
  {
   "cell_type": "code",
   "execution_count": 3,
   "metadata": {
    "collapsed": false,
    "scrolled": true
   },
   "outputs": [
    {
     "data": {
      "text/plain": [
       "['Data/csv_sheets/201201.csv',\n",
       " 'Data/csv_sheets/201202.csv',\n",
       " 'Data/csv_sheets/201203.csv',\n",
       " 'Data/csv_sheets/201204.csv',\n",
       " 'Data/csv_sheets/201205.csv',\n",
       " 'Data/csv_sheets/201206.csv',\n",
       " 'Data/csv_sheets/201207.csv',\n",
       " 'Data/csv_sheets/201208.csv',\n",
       " 'Data/csv_sheets/201209.csv',\n",
       " 'Data/csv_sheets/201210.csv',\n",
       " 'Data/csv_sheets/201211.csv',\n",
       " 'Data/csv_sheets/201212.csv',\n",
       " 'Data/csv_sheets/201301.csv',\n",
       " 'Data/csv_sheets/201302.csv',\n",
       " 'Data/csv_sheets/201303.csv',\n",
       " 'Data/csv_sheets/201304.csv',\n",
       " 'Data/csv_sheets/201305.csv',\n",
       " 'Data/csv_sheets/201306.csv',\n",
       " 'Data/csv_sheets/201307.csv',\n",
       " 'Data/csv_sheets/201308.csv',\n",
       " 'Data/csv_sheets/201309.csv',\n",
       " 'Data/csv_sheets/201310.csv',\n",
       " 'Data/csv_sheets/201311.csv',\n",
       " 'Data/csv_sheets/201312.csv',\n",
       " 'Data/csv_sheets/201401.csv',\n",
       " 'Data/csv_sheets/201402.csv',\n",
       " 'Data/csv_sheets/201403.csv',\n",
       " 'Data/csv_sheets/201404.csv',\n",
       " 'Data/csv_sheets/201405.csv',\n",
       " 'Data/csv_sheets/201406.csv',\n",
       " 'Data/csv_sheets/201407.csv',\n",
       " 'Data/csv_sheets/201408.csv',\n",
       " 'Data/csv_sheets/201409.csv',\n",
       " 'Data/csv_sheets/201410.csv',\n",
       " 'Data/csv_sheets/201411.csv',\n",
       " 'Data/csv_sheets/201412.csv',\n",
       " 'Data/csv_sheets/201501.csv',\n",
       " 'Data/csv_sheets/201502.csv',\n",
       " 'Data/csv_sheets/201503.csv',\n",
       " 'Data/csv_sheets/201504.csv',\n",
       " 'Data/csv_sheets/201505.csv',\n",
       " 'Data/csv_sheets/201506.csv',\n",
       " 'Data/csv_sheets/201507.csv',\n",
       " 'Data/csv_sheets/201508.csv',\n",
       " 'Data/csv_sheets/201509.csv',\n",
       " 'Data/csv_sheets/201510.csv',\n",
       " 'Data/csv_sheets/201511.csv',\n",
       " 'Data/csv_sheets/201512.csv',\n",
       " 'Data/csv_sheets/201601.csv',\n",
       " 'Data/csv_sheets/201602.csv',\n",
       " 'Data/csv_sheets/201603.csv',\n",
       " 'Data/csv_sheets/201604.csv',\n",
       " 'Data/csv_sheets/201605.csv',\n",
       " 'Data/csv_sheets/201606.csv',\n",
       " 'Data/csv_sheets/201607.csv']"
      ]
     },
     "execution_count": 3,
     "metadata": {},
     "output_type": "execute_result"
    }
   ],
   "source": [
    "#Code provided by Wai Kit to load in all the filenames\n",
    "files = os.listdir('Data/csv_sheets/')\n",
    "files = ['Data/csv_sheets/' + file for file in files] \n",
    "files"
   ]
  },
  {
   "cell_type": "markdown",
   "metadata": {},
   "source": [
    "## In the following cells we'll be trying the necessary operations for the data cleaning step, on a single datafile (equivalent of 1 month of data)"
   ]
  },
  {
   "cell_type": "code",
   "execution_count": 71,
   "metadata": {
    "collapsed": false
   },
   "outputs": [
    {
     "name": "stderr",
     "output_type": "stream",
     "text": [
      "b'Skipping line 64: expected 10 fields, saw 11\\n'\n"
     ]
    },
    {
     "data": {
      "text/html": [
       "<div>\n",
       "<table border=\"1\" class=\"dataframe\">\n",
       "  <thead>\n",
       "    <tr style=\"text-align: right;\">\n",
       "      <th></th>\n",
       "      <th>8</th>\n",
       "      <th>Totaal</th>\n",
       "      <th>1656417.000000</th>\n",
       "      <th>5292876.000000</th>\n",
       "      <th>544670.000000</th>\n",
       "      <th>1667292.000000</th>\n",
       "      <th>1110233.000000</th>\n",
       "      <th>3617274.000000</th>\n",
       "      <th>1514.000000</th>\n",
       "      <th>8312.000000</th>\n",
       "    </tr>\n",
       "  </thead>\n",
       "  <tbody>\n",
       "    <tr>\n",
       "      <th>0</th>\n",
       "      <td>9</td>\n",
       "      <td>Schelvis</td>\n",
       "      <td>10839.000000</td>\n",
       "      <td>22150.000000</td>\n",
       "      <td>676.000000</td>\n",
       "      <td>2116.000000</td>\n",
       "      <td>10163.000000</td>\n",
       "      <td>20034.000000</td>\n",
       "      <td>-</td>\n",
       "      <td>-</td>\n",
       "    </tr>\n",
       "    <tr>\n",
       "      <th>1</th>\n",
       "      <td>10</td>\n",
       "      <td>Kabeljauw</td>\n",
       "      <td>48202.000000</td>\n",
       "      <td>158732.000000</td>\n",
       "      <td>13301.000000</td>\n",
       "      <td>46088.000000</td>\n",
       "      <td>34295.000000</td>\n",
       "      <td>110472.000000</td>\n",
       "      <td>606.000000</td>\n",
       "      <td>2172.000000</td>\n",
       "    </tr>\n",
       "    <tr>\n",
       "      <th>2</th>\n",
       "      <td>11</td>\n",
       "      <td>Koolvis</td>\n",
       "      <td>376.000000</td>\n",
       "      <td>606.000000</td>\n",
       "      <td>16.000000</td>\n",
       "      <td>22.000000</td>\n",
       "      <td>360.000000</td>\n",
       "      <td>586.000000</td>\n",
       "      <td>-</td>\n",
       "      <td>-</td>\n",
       "    </tr>\n",
       "    <tr>\n",
       "      <th>3</th>\n",
       "      <td>12</td>\n",
       "      <td>Wijting</td>\n",
       "      <td>28187.000000</td>\n",
       "      <td>37956.000000</td>\n",
       "      <td>9756.000000</td>\n",
       "      <td>13908.000000</td>\n",
       "      <td>18381.000000</td>\n",
       "      <td>24012.000000</td>\n",
       "      <td>50.000000</td>\n",
       "      <td>36.000000</td>\n",
       "    </tr>\n",
       "    <tr>\n",
       "      <th>...</th>\n",
       "      <td>...</td>\n",
       "      <td>...</td>\n",
       "      <td>...</td>\n",
       "      <td>...</td>\n",
       "      <td>...</td>\n",
       "      <td>...</td>\n",
       "      <td>...</td>\n",
       "      <td>...</td>\n",
       "      <td>...</td>\n",
       "      <td>...</td>\n",
       "    </tr>\n",
       "    <tr>\n",
       "      <th>51</th>\n",
       "      <td>60</td>\n",
       "      <td>Wulk</td>\n",
       "      <td>4347.000000</td>\n",
       "      <td>3416.000000</td>\n",
       "      <td>1408.000000</td>\n",
       "      <td>1338.000000</td>\n",
       "      <td>2939.000000</td>\n",
       "      <td>2078.000000</td>\n",
       "      <td>-</td>\n",
       "      <td>-</td>\n",
       "    </tr>\n",
       "    <tr>\n",
       "      <th>52</th>\n",
       "      <td>61</td>\n",
       "      <td>Andere soorten</td>\n",
       "      <td>-</td>\n",
       "      <td>-</td>\n",
       "      <td>-</td>\n",
       "      <td>-</td>\n",
       "      <td>-</td>\n",
       "      <td>-</td>\n",
       "      <td>-</td>\n",
       "      <td>-</td>\n",
       "    </tr>\n",
       "    <tr>\n",
       "      <th>53</th>\n",
       "      <td>62</td>\n",
       "      <td>NaN</td>\n",
       "      <td>NaN</td>\n",
       "      <td>NaN</td>\n",
       "      <td>NaN</td>\n",
       "      <td>NaN</td>\n",
       "      <td>NaN</td>\n",
       "      <td>NaN</td>\n",
       "      <td>NaN</td>\n",
       "      <td>NaN</td>\n",
       "    </tr>\n",
       "    <tr>\n",
       "      <th>54</th>\n",
       "      <td>64</td>\n",
       "      <td>NaN</td>\n",
       "      <td>NaN</td>\n",
       "      <td>NaN</td>\n",
       "      <td>NaN</td>\n",
       "      <td>NaN</td>\n",
       "      <td>NaN</td>\n",
       "      <td>NaN</td>\n",
       "      <td>NaN</td>\n",
       "      <td>NaN</td>\n",
       "    </tr>\n",
       "  </tbody>\n",
       "</table>\n",
       "<p>55 rows × 10 columns</p>\n",
       "</div>"
      ],
      "text/plain": [
       "     8          Totaal 1656417.000000 5292876.000000 544670.000000  \\\n",
       "0    9        Schelvis   10839.000000   22150.000000    676.000000   \n",
       "1   10       Kabeljauw   48202.000000  158732.000000  13301.000000   \n",
       "2   11         Koolvis     376.000000     606.000000     16.000000   \n",
       "3   12         Wijting   28187.000000   37956.000000   9756.000000   \n",
       "..  ..             ...            ...            ...           ...   \n",
       "51  60            Wulk    4347.000000    3416.000000   1408.000000   \n",
       "52  61  Andere soorten              -              -             -   \n",
       "53  62             NaN            NaN            NaN           NaN   \n",
       "54  64             NaN            NaN            NaN           NaN   \n",
       "\n",
       "   1667292.000000 1110233.000000 3617274.000000 1514.000000  8312.000000  \n",
       "0     2116.000000   10163.000000   20034.000000           -            -  \n",
       "1    46088.000000   34295.000000  110472.000000  606.000000  2172.000000  \n",
       "2       22.000000     360.000000     586.000000           -            -  \n",
       "3    13908.000000   18381.000000   24012.000000   50.000000    36.000000  \n",
       "..            ...            ...            ...         ...          ...  \n",
       "51    1338.000000    2939.000000    2078.000000           -            -  \n",
       "52              -              -              -           -            -  \n",
       "53            NaN            NaN            NaN         NaN          NaN  \n",
       "54            NaN            NaN            NaN         NaN          NaN  \n",
       "\n",
       "[55 rows x 10 columns]"
      ]
     },
     "execution_count": 71,
     "metadata": {},
     "output_type": "execute_result"
    }
   ],
   "source": [
    "#Load in the data for January 2016\n",
    "path = 'Data/csv_sheets/201601.csv'\n",
    "data_201601 = pd.read_csv(path , skiprows = 8, error_bad_lines=False)\n",
    "data_201601\n"
   ]
  },
  {
   "cell_type": "code",
   "execution_count": null,
   "metadata": {
    "collapsed": false
   },
   "outputs": [],
   "source": [
    "data_201601.columns = [\"Index\", \"Soort\", \"Totaal in kg\", \"Totaal in EUR\", \"Oostende in kg\", \"Oostende in EUR\", \"Zeebrugge in kg\", \"Zeebrugge in EUR\", \"Nieuwpoort in kg\", \"Nieuwpoort in EUR\"]\n",
    "data_201601"
   ]
  },
  {
   "cell_type": "code",
   "execution_count": null,
   "metadata": {
    "collapsed": false
   },
   "outputs": [],
   "source": [
    "data_201601 = data_201601.drop('Index', 1)\n",
    "data_201601"
   ]
  },
  {
   "cell_type": "code",
   "execution_count": null,
   "metadata": {
    "collapsed": false
   },
   "outputs": [],
   "source": [
    "data_201601 = data_201601[:-2]\n",
    "data_201601"
   ]
  },
  {
   "cell_type": "code",
   "execution_count": null,
   "metadata": {
    "collapsed": false
   },
   "outputs": [],
   "source": [
    "data_201601 = data_201601.drop(data_201601.index[[32,33,34,40,41,42]])\n",
    "data_201601.head(n=36)"
   ]
  },
  {
   "cell_type": "markdown",
   "metadata": {},
   "source": [
    "### In order to round all the numbers after the comma, we will first check the format/types of the cells."
   ]
  },
  {
   "cell_type": "code",
   "execution_count": null,
   "metadata": {
    "collapsed": false
   },
   "outputs": [],
   "source": [
    "data_201601.dtypes"
   ]
  },
  {
   "cell_type": "markdown",
   "metadata": {},
   "source": [
    "### We now know that the imported data are all of 'Object' type, and will need to convert them to 'integer' in order to be able to round them. "
   ]
  },
  {
   "cell_type": "code",
   "execution_count": null,
   "metadata": {
    "collapsed": false
   },
   "outputs": [],
   "source": [
    "data_201601 = data_201601.convert_objects(convert_numeric=True)\n",
    "data_201601.dtypes"
   ]
  },
  {
   "cell_type": "markdown",
   "metadata": {},
   "source": [
    "### Now we'll replace the NaN values in our dataframe with zero's, since zero kg/EUR of a certain fish species where caught in that certain month"
   ]
  },
  {
   "cell_type": "code",
   "execution_count": null,
   "metadata": {
    "collapsed": false
   },
   "outputs": [],
   "source": [
    "data_201601 = data_201601.fillna(0)\n",
    "data_201601"
   ]
  },
  {
   "cell_type": "markdown",
   "metadata": {},
   "source": [
    "### We will create a new variable that gives us the family to which the certain species belongs"
   ]
  },
  {
   "cell_type": "code",
   "execution_count": null,
   "metadata": {
    "collapsed": false
   },
   "outputs": [],
   "source": [
    "data_201601.loc[0:32, 'Familie']= 'Bodemvis'\n",
    "data_201601.loc[34:39, 'Familie']= 'Pelagische Vis'\n",
    "data_201601.loc[42:52, 'Familie'] = 'Schaal- en Weekdieren'\n",
    "data_201601\n"
   ]
  },
  {
   "cell_type": "markdown",
   "metadata": {},
   "source": [
    "### The next step in our data aggregation is to create a seperate row for each observation. I.e. we want to have 3 'Schelvis' observations, one for every harbor (per month)."
   ]
  },
  {
   "cell_type": "markdown",
   "metadata": {},
   "source": [
    "#### * We can drop the columns that represent the total fish caught over all harbors *"
   ]
  },
  {
   "cell_type": "code",
   "execution_count": null,
   "metadata": {
    "collapsed": false
   },
   "outputs": [],
   "source": [
    "data_201601 = data_201601.drop(data_201601.columns[[1, 2]], 1)\n",
    "data_201601"
   ]
  },
  {
   "cell_type": "code",
   "execution_count": null,
   "metadata": {
    "collapsed": false
   },
   "outputs": [],
   "source": [
    "data_201601_kg = pd.melt(data_201601, id_vars=['Soort','Familie'], value_vars=['Oostende in kg', 'Zeebrugge in kg', 'Nieuwpoort in kg'], var_name='Haven', value_name = 'Hoeveelheid in kg')\n",
    "data_201601_EUR = pd.melt(data_201601, id_vars=['Soort','Familie'], value_vars=['Oostende in EUR', 'Zeebrugge in EUR', 'Nieuwpoort in EUR'], var_name='Haven', value_name = 'Hoeveelheid in EU')"
   ]
  },
  {
   "cell_type": "code",
   "execution_count": null,
   "metadata": {
    "collapsed": false
   },
   "outputs": [],
   "source": [
    "data_201601_EUR['Haven'] = data_201601_EUR['Haven'].map(lambda x: str(x)[:-7])\n",
    "data_201601_EUR"
   ]
  },
  {
   "cell_type": "code",
   "execution_count": null,
   "metadata": {
    "collapsed": false
   },
   "outputs": [],
   "source": [
    "data_201601_kg['Haven'] = data_201601_kg['Haven'].map(lambda x: str(x)[:-6])\n",
    "data_201601_kg"
   ]
  },
  {
   "cell_type": "code",
   "execution_count": null,
   "metadata": {
    "collapsed": false
   },
   "outputs": [],
   "source": [
    "data_201601 = pd.merge(data_201601_kg, data_201601_EUR, how='left', on=['Soort', 'Familie', 'Haven'])"
   ]
  },
  {
   "cell_type": "code",
   "execution_count": null,
   "metadata": {
    "collapsed": false
   },
   "outputs": [],
   "source": [
    "data_201601.loc[0:50]"
   ]
  },
  {
   "cell_type": "code",
   "execution_count": 74,
   "metadata": {
    "collapsed": false
   },
   "outputs": [
    {
     "data": {
      "text/plain": [
       "'Data/csv_sheets/201601.csv'"
      ]
     },
     "execution_count": 74,
     "metadata": {},
     "output_type": "execute_result"
    }
   ],
   "source": [
    "# We will substract our date variables from the filename '201601'\n",
    "path"
   ]
  },
  {
   "cell_type": "code",
   "execution_count": null,
   "metadata": {
    "collapsed": false
   },
   "outputs": [],
   "source": [
    "# substring for the year variable\n",
    "path[-10:-6]"
   ]
  },
  {
   "cell_type": "code",
   "execution_count": null,
   "metadata": {
    "collapsed": false
   },
   "outputs": [],
   "source": [
    "# substring for the month variable\n",
    "path[-9:-7]"
   ]
  },
  {
   "cell_type": "code",
   "execution_count": 75,
   "metadata": {
    "collapsed": true
   },
   "outputs": [],
   "source": [
    "data_201601['year'] = path[-10:-6]\n",
    "data_201601['month'] = path[-6:-4]"
   ]
  },
  {
   "cell_type": "code",
   "execution_count": 76,
   "metadata": {
    "collapsed": false
   },
   "outputs": [
    {
     "data": {
      "text/html": [
       "<div>\n",
       "<table border=\"1\" class=\"dataframe\">\n",
       "  <thead>\n",
       "    <tr style=\"text-align: right;\">\n",
       "      <th></th>\n",
       "      <th>8</th>\n",
       "      <th>Totaal</th>\n",
       "      <th>1656417.000000</th>\n",
       "      <th>5292876.000000</th>\n",
       "      <th>544670.000000</th>\n",
       "      <th>1667292.000000</th>\n",
       "      <th>1110233.000000</th>\n",
       "      <th>3617274.000000</th>\n",
       "      <th>1514.000000</th>\n",
       "      <th>8312.000000</th>\n",
       "      <th>year</th>\n",
       "      <th>month</th>\n",
       "    </tr>\n",
       "  </thead>\n",
       "  <tbody>\n",
       "    <tr>\n",
       "      <th>0</th>\n",
       "      <td>9</td>\n",
       "      <td>Schelvis</td>\n",
       "      <td>10839.000000</td>\n",
       "      <td>22150.000000</td>\n",
       "      <td>676.000000</td>\n",
       "      <td>2116.000000</td>\n",
       "      <td>10163.000000</td>\n",
       "      <td>20034.000000</td>\n",
       "      <td>-</td>\n",
       "      <td>-</td>\n",
       "      <td>2016</td>\n",
       "      <td>01</td>\n",
       "    </tr>\n",
       "    <tr>\n",
       "      <th>1</th>\n",
       "      <td>10</td>\n",
       "      <td>Kabeljauw</td>\n",
       "      <td>48202.000000</td>\n",
       "      <td>158732.000000</td>\n",
       "      <td>13301.000000</td>\n",
       "      <td>46088.000000</td>\n",
       "      <td>34295.000000</td>\n",
       "      <td>110472.000000</td>\n",
       "      <td>606.000000</td>\n",
       "      <td>2172.000000</td>\n",
       "      <td>2016</td>\n",
       "      <td>01</td>\n",
       "    </tr>\n",
       "    <tr>\n",
       "      <th>2</th>\n",
       "      <td>11</td>\n",
       "      <td>Koolvis</td>\n",
       "      <td>376.000000</td>\n",
       "      <td>606.000000</td>\n",
       "      <td>16.000000</td>\n",
       "      <td>22.000000</td>\n",
       "      <td>360.000000</td>\n",
       "      <td>586.000000</td>\n",
       "      <td>-</td>\n",
       "      <td>-</td>\n",
       "      <td>2016</td>\n",
       "      <td>01</td>\n",
       "    </tr>\n",
       "    <tr>\n",
       "      <th>3</th>\n",
       "      <td>12</td>\n",
       "      <td>Wijting</td>\n",
       "      <td>28187.000000</td>\n",
       "      <td>37956.000000</td>\n",
       "      <td>9756.000000</td>\n",
       "      <td>13908.000000</td>\n",
       "      <td>18381.000000</td>\n",
       "      <td>24012.000000</td>\n",
       "      <td>50.000000</td>\n",
       "      <td>36.000000</td>\n",
       "      <td>2016</td>\n",
       "      <td>01</td>\n",
       "    </tr>\n",
       "    <tr>\n",
       "      <th>...</th>\n",
       "      <td>...</td>\n",
       "      <td>...</td>\n",
       "      <td>...</td>\n",
       "      <td>...</td>\n",
       "      <td>...</td>\n",
       "      <td>...</td>\n",
       "      <td>...</td>\n",
       "      <td>...</td>\n",
       "      <td>...</td>\n",
       "      <td>...</td>\n",
       "      <td>...</td>\n",
       "      <td>...</td>\n",
       "    </tr>\n",
       "    <tr>\n",
       "      <th>51</th>\n",
       "      <td>60</td>\n",
       "      <td>Wulk</td>\n",
       "      <td>4347.000000</td>\n",
       "      <td>3416.000000</td>\n",
       "      <td>1408.000000</td>\n",
       "      <td>1338.000000</td>\n",
       "      <td>2939.000000</td>\n",
       "      <td>2078.000000</td>\n",
       "      <td>-</td>\n",
       "      <td>-</td>\n",
       "      <td>2016</td>\n",
       "      <td>01</td>\n",
       "    </tr>\n",
       "    <tr>\n",
       "      <th>52</th>\n",
       "      <td>61</td>\n",
       "      <td>Andere soorten</td>\n",
       "      <td>-</td>\n",
       "      <td>-</td>\n",
       "      <td>-</td>\n",
       "      <td>-</td>\n",
       "      <td>-</td>\n",
       "      <td>-</td>\n",
       "      <td>-</td>\n",
       "      <td>-</td>\n",
       "      <td>2016</td>\n",
       "      <td>01</td>\n",
       "    </tr>\n",
       "    <tr>\n",
       "      <th>53</th>\n",
       "      <td>62</td>\n",
       "      <td>NaN</td>\n",
       "      <td>NaN</td>\n",
       "      <td>NaN</td>\n",
       "      <td>NaN</td>\n",
       "      <td>NaN</td>\n",
       "      <td>NaN</td>\n",
       "      <td>NaN</td>\n",
       "      <td>NaN</td>\n",
       "      <td>NaN</td>\n",
       "      <td>2016</td>\n",
       "      <td>01</td>\n",
       "    </tr>\n",
       "    <tr>\n",
       "      <th>54</th>\n",
       "      <td>64</td>\n",
       "      <td>NaN</td>\n",
       "      <td>NaN</td>\n",
       "      <td>NaN</td>\n",
       "      <td>NaN</td>\n",
       "      <td>NaN</td>\n",
       "      <td>NaN</td>\n",
       "      <td>NaN</td>\n",
       "      <td>NaN</td>\n",
       "      <td>NaN</td>\n",
       "      <td>2016</td>\n",
       "      <td>01</td>\n",
       "    </tr>\n",
       "  </tbody>\n",
       "</table>\n",
       "<p>55 rows × 12 columns</p>\n",
       "</div>"
      ],
      "text/plain": [
       "     8          Totaal 1656417.000000 5292876.000000 544670.000000  \\\n",
       "0    9        Schelvis   10839.000000   22150.000000    676.000000   \n",
       "1   10       Kabeljauw   48202.000000  158732.000000  13301.000000   \n",
       "2   11         Koolvis     376.000000     606.000000     16.000000   \n",
       "3   12         Wijting   28187.000000   37956.000000   9756.000000   \n",
       "..  ..             ...            ...            ...           ...   \n",
       "51  60            Wulk    4347.000000    3416.000000   1408.000000   \n",
       "52  61  Andere soorten              -              -             -   \n",
       "53  62             NaN            NaN            NaN           NaN   \n",
       "54  64             NaN            NaN            NaN           NaN   \n",
       "\n",
       "   1667292.000000 1110233.000000 3617274.000000 1514.000000  8312.000000  \\\n",
       "0     2116.000000   10163.000000   20034.000000           -            -   \n",
       "1    46088.000000   34295.000000  110472.000000  606.000000  2172.000000   \n",
       "2       22.000000     360.000000     586.000000           -            -   \n",
       "3    13908.000000   18381.000000   24012.000000   50.000000    36.000000   \n",
       "..            ...            ...            ...         ...          ...   \n",
       "51    1338.000000    2939.000000    2078.000000           -            -   \n",
       "52              -              -              -           -            -   \n",
       "53            NaN            NaN            NaN         NaN          NaN   \n",
       "54            NaN            NaN            NaN         NaN          NaN   \n",
       "\n",
       "    year month  \n",
       "0   2016    01  \n",
       "1   2016    01  \n",
       "2   2016    01  \n",
       "3   2016    01  \n",
       "..   ...   ...  \n",
       "51  2016    01  \n",
       "52  2016    01  \n",
       "53  2016    01  \n",
       "54  2016    01  \n",
       "\n",
       "[55 rows x 12 columns]"
      ]
     },
     "execution_count": 76,
     "metadata": {},
     "output_type": "execute_result"
    }
   ],
   "source": [
    "data_201601"
   ]
  },
  {
   "cell_type": "markdown",
   "metadata": {},
   "source": [
    "#### *We now have 1 observation per row, for the whole month January 2016*"
   ]
  },
  {
   "cell_type": "markdown",
   "metadata": {},
   "source": [
    " "
   ]
  },
  {
   "cell_type": "markdown",
   "metadata": {},
   "source": [
    "# Step 2: Data Aggregation"
   ]
  },
  {
   "cell_type": "markdown",
   "metadata": {},
   "source": [
    "## Now we will have to do these operations on all the stored csv files, and add them together to get our final table"
   ]
  },
  {
   "cell_type": "code",
   "execution_count": 4,
   "metadata": {
    "collapsed": false
   },
   "outputs": [
    {
     "data": {
      "text/plain": [
       "'Data/csv_sheets/201202.csv'"
      ]
     },
     "execution_count": 4,
     "metadata": {},
     "output_type": "execute_result"
    }
   ],
   "source": [
    "files[1]"
   ]
  },
  {
   "cell_type": "code",
   "execution_count": null,
   "metadata": {
    "collapsed": false
   },
   "outputs": [],
   "source": [
    "#how to add each new table to the existing final table\n",
    "# for file in files:\n",
    "#    data = pd.read_cs# v(file, skiprows = 8, error_bad_lines=False)\n",
    "#    final_table = final_table.append(data)"
   ]
  },
  {
   "cell_type": "markdown",
   "metadata": {},
   "source": [
    "### In the next cell we'll create a for loop where we'll read in the files and execute all the above data-cleaning operations. At the end of each loop, we will append the current table to all the previous handled tables."
   ]
  },
  {
   "cell_type": "code",
   "execution_count": 103,
   "metadata": {
    "collapsed": true
   },
   "outputs": [],
   "source": [
    "final_table = pd.DataFrame()"
   ]
  },
  {
   "cell_type": "code",
   "execution_count": 104,
   "metadata": {
    "collapsed": false,
    "scrolled": true
   },
   "outputs": [
    {
     "name": "stderr",
     "output_type": "stream",
     "text": [
      "C:\\Users\\Frederik Stallaert\\Anaconda3\\lib\\site-packages\\ipykernel\\__main__.py:8: FutureWarning: convert_objects is deprecated.  Use the data-type specific converters pd.to_datetime, pd.to_timedelta and pd.to_numeric.\n",
      "b'Skipping line 64: expected 10 fields, saw 11\\n'\n",
      "b'Skipping line 64: expected 10 fields, saw 11\\n'\n",
      "b'Skipping line 64: expected 10 fields, saw 11\\n'\n",
      "b'Skipping line 64: expected 10 fields, saw 11\\n'\n",
      "b'Skipping line 64: expected 10 fields, saw 11\\n'\n",
      "b'Skipping line 64: expected 10 fields, saw 11\\n'\n",
      "b'Skipping line 64: expected 10 fields, saw 11\\n'\n"
     ]
    },
    {
     "data": {
      "text/html": [
       "<div>\n",
       "<table border=\"1\" class=\"dataframe\">\n",
       "  <thead>\n",
       "    <tr style=\"text-align: right;\">\n",
       "      <th></th>\n",
       "      <th>Soort</th>\n",
       "      <th>Familie</th>\n",
       "      <th>Haven</th>\n",
       "      <th>Hoeveelheid in kg</th>\n",
       "      <th>Hoeveelheid in EU</th>\n",
       "      <th>year</th>\n",
       "      <th>month</th>\n",
       "    </tr>\n",
       "  </thead>\n",
       "  <tbody>\n",
       "    <tr>\n",
       "      <th>0</th>\n",
       "      <td>Schelvis</td>\n",
       "      <td>Bodemvis</td>\n",
       "      <td>Oostende</td>\n",
       "      <td>4782.0</td>\n",
       "      <td>5250.0</td>\n",
       "      <td>2012</td>\n",
       "      <td>01</td>\n",
       "    </tr>\n",
       "    <tr>\n",
       "      <th>1</th>\n",
       "      <td>Kabeljauw</td>\n",
       "      <td>Bodemvis</td>\n",
       "      <td>Oostende</td>\n",
       "      <td>22449.0</td>\n",
       "      <td>58882.0</td>\n",
       "      <td>2012</td>\n",
       "      <td>01</td>\n",
       "    </tr>\n",
       "    <tr>\n",
       "      <th>2</th>\n",
       "      <td>Koolvis</td>\n",
       "      <td>Bodemvis</td>\n",
       "      <td>Oostende</td>\n",
       "      <td>6.0</td>\n",
       "      <td>16.0</td>\n",
       "      <td>2012</td>\n",
       "      <td>01</td>\n",
       "    </tr>\n",
       "    <tr>\n",
       "      <th>3</th>\n",
       "      <td>Wijting</td>\n",
       "      <td>Bodemvis</td>\n",
       "      <td>Oostende</td>\n",
       "      <td>5495.0</td>\n",
       "      <td>6246.0</td>\n",
       "      <td>2012</td>\n",
       "      <td>01</td>\n",
       "    </tr>\n",
       "    <tr>\n",
       "      <th>...</th>\n",
       "      <td>...</td>\n",
       "      <td>...</td>\n",
       "      <td>...</td>\n",
       "      <td>...</td>\n",
       "      <td>...</td>\n",
       "      <td>...</td>\n",
       "      <td>...</td>\n",
       "    </tr>\n",
       "    <tr>\n",
       "      <th>137</th>\n",
       "      <td>Schelpen</td>\n",
       "      <td>Schaal- en Weekdieren</td>\n",
       "      <td>Nieuwpoort</td>\n",
       "      <td>0.0</td>\n",
       "      <td>0.0</td>\n",
       "      <td>2016</td>\n",
       "      <td>07</td>\n",
       "    </tr>\n",
       "    <tr>\n",
       "      <th>138</th>\n",
       "      <td>Inktvis</td>\n",
       "      <td>Schaal- en Weekdieren</td>\n",
       "      <td>Nieuwpoort</td>\n",
       "      <td>19.0</td>\n",
       "      <td>60.0</td>\n",
       "      <td>2016</td>\n",
       "      <td>07</td>\n",
       "    </tr>\n",
       "    <tr>\n",
       "      <th>139</th>\n",
       "      <td>Wulk</td>\n",
       "      <td>Schaal- en Weekdieren</td>\n",
       "      <td>Nieuwpoort</td>\n",
       "      <td>0.0</td>\n",
       "      <td>0.0</td>\n",
       "      <td>2016</td>\n",
       "      <td>07</td>\n",
       "    </tr>\n",
       "    <tr>\n",
       "      <th>140</th>\n",
       "      <td>Andere soorten</td>\n",
       "      <td>Schaal- en Weekdieren</td>\n",
       "      <td>Nieuwpoort</td>\n",
       "      <td>0.0</td>\n",
       "      <td>0.0</td>\n",
       "      <td>2016</td>\n",
       "      <td>07</td>\n",
       "    </tr>\n",
       "  </tbody>\n",
       "</table>\n",
       "<p>7863 rows × 7 columns</p>\n",
       "</div>"
      ],
      "text/plain": [
       "              Soort                Familie       Haven  Hoeveelheid in kg  \\\n",
       "0          Schelvis               Bodemvis    Oostende             4782.0   \n",
       "1         Kabeljauw               Bodemvis    Oostende            22449.0   \n",
       "2           Koolvis               Bodemvis    Oostende                6.0   \n",
       "3           Wijting               Bodemvis    Oostende             5495.0   \n",
       "..              ...                    ...         ...                ...   \n",
       "137        Schelpen  Schaal- en Weekdieren  Nieuwpoort                0.0   \n",
       "138         Inktvis  Schaal- en Weekdieren  Nieuwpoort               19.0   \n",
       "139            Wulk  Schaal- en Weekdieren  Nieuwpoort                0.0   \n",
       "140  Andere soorten  Schaal- en Weekdieren  Nieuwpoort                0.0   \n",
       "\n",
       "     Hoeveelheid in EU  year month  \n",
       "0               5250.0  2012    01  \n",
       "1              58882.0  2012    01  \n",
       "2                 16.0  2012    01  \n",
       "3               6246.0  2012    01  \n",
       "..                 ...   ...   ...  \n",
       "137                0.0  2016    07  \n",
       "138               60.0  2016    07  \n",
       "139                0.0  2016    07  \n",
       "140                0.0  2016    07  \n",
       "\n",
       "[7863 rows x 7 columns]"
      ]
     },
     "execution_count": 104,
     "metadata": {},
     "output_type": "execute_result"
    }
   ],
   "source": [
    "for file in files:\n",
    "    data = pd.read_csv(file, skiprows = 8, error_bad_lines=False)\n",
    "    \n",
    "    data.columns = [\"Index\", \"Soort\", \"Totaal in kg\", \"Totaal in EUR\", \"Oostende in kg\", \"Oostende in EUR\", \"Zeebrugge in kg\", \"Zeebrugge in EUR\", \"Nieuwpoort in kg\", \"Nieuwpoort in EUR\"]\n",
    "    data = data.drop('Index', 1)\n",
    "    data = data[:-2]\n",
    "    data = data.drop(data.index[[32,33,34,40,41,42]])\n",
    "    data = data.convert_objects(convert_numeric=True)\n",
    "    data = data.fillna(0)\n",
    "    data.loc[0:32, 'Familie']= 'Bodemvis'\n",
    "    data.loc[34:39, 'Familie']= 'Pelagische Vis'\n",
    "    data.loc[42:52, 'Familie'] = 'Schaal- en Weekdieren'\n",
    "    data = data.drop(data.columns[[1, 2]], 1)\n",
    "    data_kg = pd.melt(data, id_vars=['Soort','Familie'], value_vars=['Oostende in kg', 'Zeebrugge in kg', 'Nieuwpoort in kg'], var_name='Haven', value_name = 'Hoeveelheid in kg')\n",
    "    data_EUR = pd.melt(data, id_vars=['Soort','Familie'], value_vars=['Oostende in EUR', 'Zeebrugge in EUR', 'Nieuwpoort in EUR'], var_name='Haven', value_name = 'Hoeveelheid in EU')\n",
    "    data_EUR['Haven'] = data_EUR['Haven'].map(lambda x: str(x)[:-7])\n",
    "    data_kg['Haven'] = data_kg['Haven'].map(lambda x: str(x)[:-6])\n",
    "    data = pd.merge(data_kg, data_EUR, how='left', on=['Soort', 'Familie', 'Haven'])\n",
    "    data = pd.merge(data_kg, data_EUR, how='left', on=['Soort', 'Familie', 'Haven'])\n",
    "    data['year'] = file[-10:-6]\n",
    "    data['month'] = file[-6:-4]\n",
    "\n",
    "    final_table = final_table.append(data)\n",
    "    \n",
    "final_table"
   ]
  },
  {
   "cell_type": "code",
   "execution_count": 108,
   "metadata": {
    "collapsed": false
   },
   "outputs": [
    {
     "data": {
      "text/html": [
       "<div>\n",
       "<table border=\"1\" class=\"dataframe\">\n",
       "  <thead>\n",
       "    <tr style=\"text-align: right;\">\n",
       "      <th></th>\n",
       "      <th>Soort</th>\n",
       "      <th>Familie</th>\n",
       "      <th>Haven</th>\n",
       "      <th>Hoeveelheid in kg</th>\n",
       "      <th>Hoeveelheid in EU</th>\n",
       "      <th>year</th>\n",
       "      <th>month</th>\n",
       "    </tr>\n",
       "  </thead>\n",
       "  <tbody>\n",
       "    <tr>\n",
       "      <th>42</th>\n",
       "      <td>Schelpen</td>\n",
       "      <td>Schaal- en Weekdieren</td>\n",
       "      <td>Oostende</td>\n",
       "      <td>26008.0</td>\n",
       "      <td>58408.0</td>\n",
       "      <td>2012</td>\n",
       "      <td>01</td>\n",
       "    </tr>\n",
       "    <tr>\n",
       "      <th>43</th>\n",
       "      <td>Inktvis</td>\n",
       "      <td>Schaal- en Weekdieren</td>\n",
       "      <td>Oostende</td>\n",
       "      <td>30921.0</td>\n",
       "      <td>91556.0</td>\n",
       "      <td>2012</td>\n",
       "      <td>01</td>\n",
       "    </tr>\n",
       "    <tr>\n",
       "      <th>44</th>\n",
       "      <td>Wulk</td>\n",
       "      <td>Schaal- en Weekdieren</td>\n",
       "      <td>Oostende</td>\n",
       "      <td>1573.0</td>\n",
       "      <td>1040.0</td>\n",
       "      <td>2012</td>\n",
       "      <td>01</td>\n",
       "    </tr>\n",
       "    <tr>\n",
       "      <th>45</th>\n",
       "      <td>Andere soorten</td>\n",
       "      <td>Schaal- en Weekdieren</td>\n",
       "      <td>Oostende</td>\n",
       "      <td>0.0</td>\n",
       "      <td>0.0</td>\n",
       "      <td>2012</td>\n",
       "      <td>01</td>\n",
       "    </tr>\n",
       "    <tr>\n",
       "      <th>47</th>\n",
       "      <td>Schelvis</td>\n",
       "      <td>Bodemvis</td>\n",
       "      <td>Zeebrugge</td>\n",
       "      <td>24088.0</td>\n",
       "      <td>27700.0</td>\n",
       "      <td>2012</td>\n",
       "      <td>01</td>\n",
       "    </tr>\n",
       "    <tr>\n",
       "      <th>48</th>\n",
       "      <td>Kabeljauw</td>\n",
       "      <td>Bodemvis</td>\n",
       "      <td>Zeebrugge</td>\n",
       "      <td>59347.0</td>\n",
       "      <td>142262.0</td>\n",
       "      <td>2012</td>\n",
       "      <td>01</td>\n",
       "    </tr>\n",
       "    <tr>\n",
       "      <th>49</th>\n",
       "      <td>Koolvis</td>\n",
       "      <td>Bodemvis</td>\n",
       "      <td>Zeebrugge</td>\n",
       "      <td>30.0</td>\n",
       "      <td>60.0</td>\n",
       "      <td>2012</td>\n",
       "      <td>01</td>\n",
       "    </tr>\n",
       "    <tr>\n",
       "      <th>50</th>\n",
       "      <td>Wijting</td>\n",
       "      <td>Bodemvis</td>\n",
       "      <td>Zeebrugge</td>\n",
       "      <td>22134.0</td>\n",
       "      <td>26972.0</td>\n",
       "      <td>2012</td>\n",
       "      <td>01</td>\n",
       "    </tr>\n",
       "  </tbody>\n",
       "</table>\n",
       "</div>"
      ],
      "text/plain": [
       "             Soort                Familie      Haven  Hoeveelheid in kg  \\\n",
       "42        Schelpen  Schaal- en Weekdieren   Oostende            26008.0   \n",
       "43         Inktvis  Schaal- en Weekdieren   Oostende            30921.0   \n",
       "44            Wulk  Schaal- en Weekdieren   Oostende             1573.0   \n",
       "45  Andere soorten  Schaal- en Weekdieren   Oostende                0.0   \n",
       "47        Schelvis               Bodemvis  Zeebrugge            24088.0   \n",
       "48       Kabeljauw               Bodemvis  Zeebrugge            59347.0   \n",
       "49         Koolvis               Bodemvis  Zeebrugge               30.0   \n",
       "50         Wijting               Bodemvis  Zeebrugge            22134.0   \n",
       "\n",
       "    Hoeveelheid in EU  year month  \n",
       "42            58408.0  2012    01  \n",
       "43            91556.0  2012    01  \n",
       "44             1040.0  2012    01  \n",
       "45                0.0  2012    01  \n",
       "47            27700.0  2012    01  \n",
       "48           142262.0  2012    01  \n",
       "49               60.0  2012    01  \n",
       "50            26972.0  2012    01  "
      ]
     },
     "execution_count": 108,
     "metadata": {},
     "output_type": "execute_result"
    }
   ],
   "source": [
    "final_table.iloc[40:48]"
   ]
  },
  {
   "cell_type": "code",
   "execution_count": 105,
   "metadata": {
    "collapsed": false
   },
   "outputs": [],
   "source": [
    "final_table=final_table[final_table.Soort != 0]"
   ]
  },
  {
   "cell_type": "code",
   "execution_count": 119,
   "metadata": {
    "collapsed": false
   },
   "outputs": [],
   "source": [
    "final_table.to_csv('cleaned_data.csv', index=False)"
   ]
  }
 ],
 "metadata": {
  "kernelspec": {
   "display_name": "Python [Root]",
   "language": "python",
   "name": "Python [Root]"
  },
  "language_info": {
   "codemirror_mode": {
    "name": "ipython",
    "version": 3
   },
   "file_extension": ".py",
   "mimetype": "text/x-python",
   "name": "python",
   "nbconvert_exporter": "python",
   "pygments_lexer": "ipython3",
   "version": "3.5.2"
  }
 },
 "nbformat": 4,
 "nbformat_minor": 0
}
